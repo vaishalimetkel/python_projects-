{
 "cells": [
  {
   "cell_type": "markdown",
   "id": "8d171fe8",
   "metadata": {},
   "source": [
    "1. Write a python program to sum of the first n positive integers."
   ]
  },
  {
   "cell_type": "code",
   "execution_count": 1,
   "id": "48c14e10",
   "metadata": {},
   "outputs": [
    {
     "name": "stdout",
     "output_type": "stream",
     "text": [
      "Enter a positive integer:10\n",
      "sum is 55.0\n"
     ]
    }
   ],
   "source": [
    " # sum = (n * (n+1))/2 \n",
    "\n",
    "n = int (input(\"Enter a positive integer:\"))\n",
    "sum = (n * (n+1))/2\n",
    "print (\"sum is\",sum)\n"
   ]
  },
  {
   "cell_type": "markdown",
   "id": "79a120b7",
   "metadata": {},
   "source": [
    "2. Write a Python program to count occurrences of a substring in a string."
   ]
  },
  {
   "cell_type": "code",
   "execution_count": 2,
   "id": "62135f17",
   "metadata": {},
   "outputs": [
    {
     "name": "stdout",
     "output_type": "stream",
     "text": [
      "2\n"
     ]
    }
   ],
   "source": [
    "g = \"the sun is sleeping and the moon is waking up \"\n",
    "u = g.count(\"the\")\n",
    "print(u)"
   ]
  },
  {
   "cell_type": "markdown",
   "id": "b8ac5dc6",
   "metadata": {},
   "source": [
    "3. Write a Python program to count the occurrences of each word in a given sentence."
   ]
  },
  {
   "cell_type": "code",
   "execution_count": 3,
   "id": "d19b1496",
   "metadata": {},
   "outputs": [
    {
     "name": "stdout",
     "output_type": "stream",
     "text": [
      "{'the': 2, 'quick': 1, 'brown': 1, 'fox': 1, 'jumps': 1, 'over': 1, 'lazy': 1, 'dog': 1}\n"
     ]
    }
   ],
   "source": [
    "def count_words(sentence):\n",
    "    # Convert all characters to lowercase and split the sentence into words\n",
    "    words = sentence.lower().split()\n",
    "\n",
    "    # Create an empty dictionary to store the word counts\n",
    "    word_counts = {}\n",
    "\n",
    "    # Iterate over the words in the sentence and update the counts\n",
    "    for word in words:\n",
    "        if word in word_counts:\n",
    "            word_counts[word] += 1\n",
    "        else:\n",
    "            word_counts[word] = 1\n",
    "\n",
    "    return word_counts\n",
    "\n",
    "sentence = \"The quick brown fox jumps over the lazy dog\"\n",
    "word_counts = count_words(sentence)\n",
    "print(word_counts)"
   ]
  },
  {
   "cell_type": "markdown",
   "id": "38ebc4e0",
   "metadata": {},
   "source": [
    "4. Write a Python program to get a single string from two given strings, separated by a space and swap the first \n",
    "two characters of each string."
   ]
  },
  {
   "cell_type": "code",
   "execution_count": 4,
   "id": "51b9dba9",
   "metadata": {},
   "outputs": [
    {
     "name": "stdout",
     "output_type": "stream",
     "text": [
      "wollo herld\n"
     ]
    }
   ],
   "source": [
    "def swap_strings(string1, string2):\n",
    "    # Get the first two characters of each string\n",
    "    string1_first_two = string1[:2]\n",
    "    string2_first_two = string2[:2]\n",
    "\n",
    "    # Swap the first two characters of each string\n",
    "    string1_swapped = string2_first_two + string1[2:]\n",
    "    string2_swapped = string1_first_two + string2[2:]\n",
    "\n",
    "    # Concatenate the swapped strings with a space in between\n",
    "    result = string1_swapped + \" \" + string2_swapped\n",
    "    return result\n",
    "\n",
    "string1 = \"hello\"\n",
    "string2 = \"world\"\n",
    "result = swap_strings(string1, string2)\n",
    "print(result) "
   ]
  },
  {
   "cell_type": "markdown",
   "id": "e1f8174a",
   "metadata": {},
   "source": [
    "5. Write a Python program to add 'ing' at the end of a given string (length should be at least 3). \n",
    "If the given string already ends with 'ing' then add 'ly' instead If the string length of the given \n",
    "string is less than 3, leave it unchanged"
   ]
  },
  {
   "cell_type": "code",
   "execution_count": 6,
   "id": "b3a94e6b",
   "metadata": {},
   "outputs": [
    {
     "name": "stdout",
     "output_type": "stream",
     "text": [
      "reading\n",
      "playingly\n",
      "go\n"
     ]
    }
   ],
   "source": [
    "def add_ing_ly(string):\n",
    "    if len(string) < 3:\n",
    "        return string\n",
    "    elif string[-3:] == 'ing':\n",
    "        return string + 'ly'\n",
    "    else:\n",
    "        return string + 'ing'\n",
    "\n",
    "# Example usage:\n",
    "string1 = \"read\"\n",
    "string2 = \"playing\"\n",
    "string3 = \"go\"\n",
    "\n",
    "print(add_ing_ly(string1)) \n",
    "print(add_ing_ly(string2)) \n",
    "print(add_ing_ly(string3))  "
   ]
  },
  {
   "cell_type": "markdown",
   "id": "cc5c62a0",
   "metadata": {},
   "source": [
    "6. Write a Python program to find the first appearance of the substring 'not' and 'poor' from a given string, if \n",
    "'not' follows the 'poor', replace the whole 'not'...'poor' substring with 'good'. \n",
    "Return the resulting string"
   ]
  },
  {
   "cell_type": "code",
   "execution_count": 7,
   "id": "68db56ae",
   "metadata": {},
   "outputs": [
    {
     "name": "stdout",
     "output_type": "stream",
     "text": [
      "The weather is good today.\n",
      "The movie was poor but not too bad.\n",
      "The food was good.\n"
     ]
    }
   ],
   "source": [
    "def replace_not_poor(string):\n",
    "    not_index = string.find('not')\n",
    "    poor_index = string.find('poor')\n",
    "\n",
    "    if not_index != -1 and poor_index != -1 and not_index < poor_index:\n",
    "        return string[:not_index] + 'good' + string[poor_index+4:]\n",
    "    else:\n",
    "        return string\n",
    "\n",
    "# Example usage:\n",
    "string1 = \"The weather is not too poor today.\"\n",
    "string2 = \"The movie was poor but not too bad.\"\n",
    "string3 = \"The food was good.\"\n",
    "\n",
    "print(replace_not_poor(string1))  \n",
    "print(replace_not_poor(string2))  \n",
    "print(replace_not_poor(string3))  "
   ]
  },
  {
   "cell_type": "markdown",
   "id": "7373e3b2",
   "metadata": {},
   "source": [
    " 7. Program to find Greatest Common Divisor of two numbers.For example, the GCD of 20 and 28 is 4 and GCD of 98 and 56 is 14."
   ]
  },
  {
   "cell_type": "code",
   "execution_count": 8,
   "id": "b095324f",
   "metadata": {},
   "outputs": [
    {
     "name": "stdout",
     "output_type": "stream",
     "text": [
      "GCD of 20 and 28 is: 4\n",
      "GCD of 98 and 56 is: 14\n"
     ]
    }
   ],
   "source": [
    "def gcd(a, b):\n",
    "    while b != 0:\n",
    "        a, b = b, a % b\n",
    "    return a\n",
    "\n",
    "# Example usage:\n",
    "num1 = 20\n",
    "num2 = 28\n",
    "print(f\"GCD of {num1} and {num2} is:\", gcd(num1, num2)) \n",
    "\n",
    "num3 = 98\n",
    "num4 = 56\n",
    "print(f\"GCD of {num3} and {num4} is:\", gcd(num3, num4))"
   ]
  },
  {
   "cell_type": "markdown",
   "id": "f48b6e09",
   "metadata": {},
   "source": [
    "8. Write a Python program to check whether a list contains a sublist."
   ]
  },
  {
   "cell_type": "code",
   "execution_count": 9,
   "id": "e452ea90",
   "metadata": {},
   "outputs": [
    {
     "name": "stdout",
     "output_type": "stream",
     "text": [
      "True\n",
      "True\n",
      "False\n"
     ]
    }
   ],
   "source": [
    "def is_sublist(sublist, lst):\n",
    "    if len(sublist) > len(lst):\n",
    "        return False\n",
    "    for i in range(len(lst)-len(sublist)+1):\n",
    "        if lst[i:i+len(sublist)] == sublist:\n",
    "            return True\n",
    "    return False\n",
    "\n",
    "# Example usage:\n",
    "lst1 = [1, 2, 3, 4, 5, 6]\n",
    "sublist1 = [3, 4, 5]\n",
    "print(is_sublist(sublist1, lst1))  \n",
    "\n",
    "lst2 = ['apple', 'banana', 'orange', 'pear']\n",
    "sublist2 = ['banana', 'orange']\n",
    "print(is_sublist(sublist2, lst2))  \n",
    "\n",
    "lst3 = [1, 2, 3, 4, 5]\n",
    "sublist3 = [6, 7]\n",
    "print(is_sublist(sublist3, lst3))"
   ]
  },
  {
   "cell_type": "markdown",
   "id": "85a4e27d",
   "metadata": {},
   "source": [
    "9. Write a Python program to find the second smallest number in a list. "
   ]
  },
  {
   "cell_type": "code",
   "execution_count": 10,
   "id": "f646c2d9",
   "metadata": {},
   "outputs": [
    {
     "name": "stdout",
     "output_type": "stream",
     "text": [
      "2\n",
      "inf\n",
      "None\n"
     ]
    }
   ],
   "source": [
    "def second_smallest(lst):\n",
    "    if len(lst) < 2:\n",
    "        return None\n",
    "    smallest = min(lst)\n",
    "    second_smallest = float('inf')\n",
    "    for num in lst:\n",
    "        if num > smallest and num < second_smallest:\n",
    "            second_smallest = num\n",
    "    return second_smallest\n",
    "\n",
    "# Example usage:\n",
    "lst1 = [5, 3, 2, 8, 1, 4]\n",
    "print(second_smallest(lst1))  \n",
    "\n",
    "lst2 = [5, 5, 5]\n",
    "print(second_smallest(lst2))  \n",
    "\n",
    "lst3 = [1]\n",
    "print(second_smallest(lst3))  \n",
    "\n"
   ]
  },
  {
   "cell_type": "markdown",
   "id": "c80184ab",
   "metadata": {},
   "source": [
    "10. Write a Python program to get unique values from a list."
   ]
  },
  {
   "cell_type": "code",
   "execution_count": 11,
   "id": "5be805fe",
   "metadata": {},
   "outputs": [
    {
     "name": "stdout",
     "output_type": "stream",
     "text": [
      "[1, 2, 3, 4, 5, 6]\n",
      "['apple', 'banana', 'orange', 'pear']\n",
      "[]\n"
     ]
    }
   ],
   "source": [
    "def get_unique(lst):\n",
    "    unique_lst = []\n",
    "    for element in lst:\n",
    "        if element not in unique_lst:\n",
    "            unique_lst.append(element)\n",
    "    return unique_lst\n",
    "\n",
    "# Example usage:\n",
    "lst1 = [1, 2, 3, 4, 2, 1, 5, 6, 3]\n",
    "print(get_unique(lst1))  \n",
    "\n",
    "lst2 = ['apple', 'banana', 'banana', 'orange', 'pear', 'apple']\n",
    "print(get_unique(lst2))  \n",
    "\n",
    "lst3 = []\n",
    "print(get_unique(lst3))  "
   ]
  },
  {
   "cell_type": "markdown",
   "id": "aaf6be3c",
   "metadata": {},
   "source": [
    "11. Write a Python program to unzip a list of tuples into individual lists.\n",
    " \n",
    " "
   ]
  },
  {
   "cell_type": "code",
   "execution_count": 12,
   "id": "959b369a",
   "metadata": {},
   "outputs": [
    {
     "name": "stdout",
     "output_type": "stream",
     "text": [
      "(1, 2, 3)\n",
      "('a', 'b', 'c')\n",
      "(1, 3, 5)\n",
      "(2, 4, 6)\n"
     ]
    }
   ],
   "source": [
    "def unzip(lst):\n",
    "    return tuple(zip(*lst))\n",
    "\n",
    "# Example usage:\n",
    "lst1 = [(1, 'a'), (2, 'b'), (3, 'c')]\n",
    "list1, list2 = unzip(lst1)\n",
    "print(list1) # Output: (1, 2, 3)\n",
    "print(list2) # Output: ('a', 'b', 'c')\n",
    "\n",
    "lst2 = [(1, 2), (3, 4), (5, 6)]\n",
    "list3, list4 = unzip(lst2)\n",
    "print(list3) # Output: (1, 3, 5)\n",
    "print(list4) # Output: (2, 4, 6)\n",
    "\n",
    " "
   ]
  },
  {
   "cell_type": "markdown",
   "id": "f8737f0b",
   "metadata": {},
   "source": [
    "12. Write a Python program to convert a list of tuples into a dictionary"
   ]
  },
  {
   "cell_type": "code",
   "execution_count": 13,
   "id": "53348178",
   "metadata": {},
   "outputs": [
    {
     "name": "stdout",
     "output_type": "stream",
     "text": [
      "{'a': [1], 'b': [2], 'c': [3]}\n",
      "{'a': [1, 4], 'b': [2, 5], 'c': [3]}\n"
     ]
    }
   ],
   "source": [
    "def convert_to_dict(lst):\n",
    "    dict1 = {}\n",
    "    for key, value in lst:\n",
    "        dict1.setdefault(key, []).append(value)\n",
    "    return dict1\n",
    "\n",
    "# Example usage:\n",
    "lst1 = [('a', 1), ('b', 2), ('c', 3)]\n",
    "dict1 = convert_to_dict(lst1)\n",
    "print(dict1)  \n",
    "\n",
    "lst2 = [('a', 1), ('b', 2), ('c', 3), ('a', 4), ('b', 5)]\n",
    "dict2 = convert_to_dict(lst2)\n",
    "print(dict2)  "
   ]
  },
  {
   "cell_type": "markdown",
   "id": "a260d06d",
   "metadata": {},
   "source": [
    "13. Write a Python program to sort a dictionary (ascending /descending) by value."
   ]
  },
  {
   "cell_type": "code",
   "execution_count": 14,
   "id": "529ae696",
   "metadata": {},
   "outputs": [
    {
     "name": "stdout",
     "output_type": "stream",
     "text": [
      "{'banana': 20, 'orange': 30, 'mango': 40, 'apple': 50}\n",
      "{'apple': 50, 'mango': 40, 'orange': 30, 'banana': 20}\n"
     ]
    }
   ],
   "source": [
    "# Sort dictionary by value in ascending order\n",
    "def sort_dict_asc(dict1):\n",
    "    sorted_dict = {k: v for k, v in sorted(dict1.items(), key=lambda item: item[1])}\n",
    "    return sorted_dict\n",
    "\n",
    "# Sort dictionary by value in descending order\n",
    "def sort_dict_desc(dict1):\n",
    "    sorted_dict = {k: v for k, v in sorted(dict1.items(), key=lambda item: item[1], reverse=True)}\n",
    "    return sorted_dict\n",
    "\n",
    "# Example usage:\n",
    "dict1 = {'apple': 50, 'banana': 20, 'orange': 30, 'mango': 40}\n",
    "sorted_dict_asc = sort_dict_asc(dict1)\n",
    "sorted_dict_desc = sort_dict_desc(dict1)\n",
    "print(sorted_dict_asc)  \n",
    "print(sorted_dict_desc)   "
   ]
  },
  {
   "cell_type": "markdown",
   "id": "7a76a110",
   "metadata": {},
   "source": [
    "14. Write a Python program to find the highest 3 values in a dictionary."
   ]
  },
  {
   "cell_type": "code",
   "execution_count": 15,
   "id": "48f04439",
   "metadata": {},
   "outputs": [
    {
     "name": "stdout",
     "output_type": "stream",
     "text": [
      "{'apple': 50, 'pear': 50, 'kiwi': 60}\n"
     ]
    }
   ],
   "source": [
    "# Find highest 3 values in dictionary\n",
    "def highest_three_values(dict1):\n",
    "    values = list(dict1.values())\n",
    "    values.sort(reverse=True)\n",
    "    highest_three = values[:3]\n",
    "    result = {}\n",
    "    for key, value in dict1.items():\n",
    "        if value in highest_three:\n",
    "            result[key] = value\n",
    "    return result\n",
    "\n",
    "# Example usage:\n",
    "dict1 = {'apple': 50, 'banana': 20, 'orange': 30, 'mango': 40, 'pear': 50, 'kiwi': 60}\n",
    "highest_three = highest_three_values(dict1)\n",
    "print(highest_three)  "
   ]
  },
  {
   "cell_type": "markdown",
   "id": "04e1c506",
   "metadata": {},
   "source": [
    "15. Given a number n, write a python program to make and print the list of Fibonacci series up to n.\n",
    "Input : n=7 \n",
    "Hint : first 7 numbers in the series\n",
    "Expected output : \n",
    "First few Fibonacci numbers are 0, 1, 1, 2, 3, 5, 8, 13\n"
   ]
  },
  {
   "cell_type": "code",
   "execution_count": 16,
   "id": "ec9d6eaf",
   "metadata": {},
   "outputs": [
    {
     "name": "stdout",
     "output_type": "stream",
     "text": [
      "First few Fibonacci numbers are: 0 1 1 2 3 5 "
     ]
    }
   ],
   "source": [
    "# Function to generate Fibonacci series up to n\n",
    "def fibonacci_series(n):\n",
    "    a, b = 0, 1\n",
    "    fib_series = []\n",
    "    while a <= n:\n",
    "        fib_series.append(a)\n",
    "        a, b = b, a + b\n",
    "    return fib_series\n",
    "\n",
    "# Example usage:\n",
    "n = 7\n",
    "fib_series = fibonacci_series(n)\n",
    "print(\"First few Fibonacci numbers are:\", end=\" \")\n",
    "for num in fib_series:\n",
    "    print(num, end=\" \")"
   ]
  },
  {
   "cell_type": "markdown",
   "id": "8c53b190",
   "metadata": {},
   "source": [
    "16. Counting the frequencies in a list using a dictionary in Python.\n",
    "Input : [1, 1, 1, 5, 5, 3, 1, 3, 3, 1,4, 4, 4, 2, 2, 2, 2]\n",
    "Expected output : 1 : 5 , 2 : 4 , 3 : 3 , 4 : 3 , 5 : 2\n"
   ]
  },
  {
   "cell_type": "code",
   "execution_count": 17,
   "id": "8fa9033e",
   "metadata": {},
   "outputs": [
    {
     "name": "stdout",
     "output_type": "stream",
     "text": [
      "1 : 5\n",
      "5 : 2\n",
      "3 : 3\n",
      "4 : 3\n",
      "2 : 4\n"
     ]
    }
   ],
   "source": [
    "input_list = [1, 1, 1, 5, 5, 3, 1, 3, 3, 1, 4, 4, 4, 2, 2, 2, 2]\n",
    "\n",
    "# Create an empty dictionary to store the frequencies\n",
    "freq_dict = {}\n",
    "\n",
    "# Iterate over the elements in the input list and update the frequencies in the dictionary\n",
    "for num in input_list:\n",
    "    if num in freq_dict:\n",
    "        freq_dict[num] += 1\n",
    "    else:\n",
    "        freq_dict[num] = 1\n",
    "\n",
    "# Print the frequencies in the format \"element: frequency\"\n",
    "for key, value in freq_dict.items():\n",
    "    print(str(key) + \" : \" + str(value))"
   ]
  },
  {
   "cell_type": "markdown",
   "id": "1cef34ce",
   "metadata": {},
   "source": [
    "17. Write a python program using function to find the sum of odd series and even series\n",
    "Odd series: 12/ 1! + 32/ 3! + 52/ 5!+……n \n",
    "Even series: 22/ 2! + 42/ 4! + 62/ 6!+……n"
   ]
  },
  {
   "cell_type": "code",
   "execution_count": 18,
   "id": "009b3d31",
   "metadata": {},
   "outputs": [
    {
     "name": "stdout",
     "output_type": "stream",
     "text": [
      "Odd series sum: 6.541666666666667\n",
      "Even series sum: 6.966666666666666\n"
     ]
    }
   ],
   "source": [
    "import math\n",
    "\n",
    "def odd_even_sum(n):\n",
    "    odd_sum = 0\n",
    "    even_sum = 0\n",
    "    \n",
    "    for i in range(1, n+1):\n",
    "        # If i is odd\n",
    "        if i % 2 != 0:\n",
    "            odd_sum += (i**2) / math.factorial(i-1)\n",
    "        # If i is even\n",
    "        else:\n",
    "            even_sum += (i**2) / math.factorial(i-1)\n",
    "    \n",
    "    return (odd_sum, even_sum)\n",
    "\n",
    "# Test the function with n = 6\n",
    "n = 6\n",
    "odd_sum, even_sum = odd_even_sum(n)\n",
    "print(\"Odd series sum:\", odd_sum)\n",
    "print(\"Even series sum:\", even_sum)\n"
   ]
  },
  {
   "cell_type": "markdown",
   "id": "04145831",
   "metadata": {},
   "source": [
    "18. Python Program to Find Factorial of Number Using Recursion"
   ]
  },
  {
   "cell_type": "code",
   "execution_count": 19,
   "id": "cadf73b1",
   "metadata": {},
   "outputs": [
    {
     "name": "stdout",
     "output_type": "stream",
     "text": [
      "Factorial of 5 is 120\n"
     ]
    }
   ],
   "source": [
    "def factorial(n):\n",
    "    if n == 0:\n",
    "        return 1\n",
    "    else:\n",
    "        return n * factorial(n-1)\n",
    "\n",
    "# Test the function with n = 5\n",
    "n = 5\n",
    "print(\"Factorial of\", n, \"is\", factorial(n))"
   ]
  },
  {
   "cell_type": "markdown",
   "id": "83443ad8",
   "metadata": {},
   "source": [
    "19. Write a Python function that takes a list and returns a new list with unique elements of the first list."
   ]
  },
  {
   "cell_type": "code",
   "execution_count": 20,
   "id": "6965ea2c",
   "metadata": {},
   "outputs": [
    {
     "name": "stdout",
     "output_type": "stream",
     "text": [
      "[1, 2, 3, 4, 5, 6]\n"
     ]
    }
   ],
   "source": [
    "def unique_elements(lst):\n",
    "    unique_lst = []\n",
    "    for elem in lst:\n",
    "        if elem not in unique_lst:\n",
    "            unique_lst.append(elem)\n",
    "    return unique_lst\n",
    "\n",
    "lst = [1, 2, 3, 4, 1, 2, 5, 6, 5]\n",
    "unique_lst = unique_elements(lst)\n",
    "print(unique_lst)"
   ]
  },
  {
   "cell_type": "markdown",
   "id": "2e25975d",
   "metadata": {},
   "source": [
    "# 20. Mini project : \n",
    "    \n",
    "Problem Statement : Password Generator"
   ]
  },
  {
   "cell_type": "code",
   "execution_count": 5,
   "id": "63ae8228",
   "metadata": {},
   "outputs": [
    {
     "name": "stdout",
     "output_type": "stream",
     "text": [
      "Enter some words to generate the password: vai#567D\n",
      "Generated password: vai#567D<${M\n",
      "Enter User ID: vaishali metakel\n",
      "Enter your name: metakel vashali A.\n",
      "Enter your password: vai#567d\n",
      "User created successfully!\n"
     ]
    }
   ],
   "source": [
    "import random\n",
    "import string\n",
    "\n",
    "class User:\n",
    "    def __init__(self, user_id, name, password):\n",
    "        self.user_id = user_id\n",
    "        self.name = name\n",
    "        self.password = password\n",
    "\n",
    "def generate_password(user_input):\n",
    "    # Convert the user input to a list of words\n",
    "    words = user_input.split()\n",
    "\n",
    "    # Shuffle the list of words\n",
    "    random.shuffle(words)\n",
    "\n",
    "    # Combine the shuffled words to form the base of the password\n",
    "    password_base = ''.join(words)\n",
    "\n",
    "    # Add numbers, special characters and capital letters to the base to form the final password\n",
    "    password = password_base + ''.join(random.choices(string.digits + string.punctuation + string.ascii_uppercase, k=4))\n",
    "\n",
    "    # Check that the password length is more than 8 characters\n",
    "    if len(password) < 8:\n",
    "        raise Exception(\"Password length is less than 8 characters\")\n",
    "\n",
    "    return password\n",
    "\n",
    "# Example usage:\n",
    "user_input = input(\"Enter some words to generate the password: \")\n",
    "password = generate_password(user_input)\n",
    "print(\"Generated password:\", password)\n",
    "\n",
    "# Creating User instance\n",
    "try:\n",
    "    user_id = input(\"Enter User ID: \")\n",
    "    name = input(\"Enter your name: \")\n",
    "    password = input(\"Enter your password: \")\n",
    "    user = User(user_id, name, password)\n",
    "    print(\"User created successfully!\")\n",
    "except Exception as e:\n",
    "    print(\"Error creating user:\", e)"
   ]
  },
  {
   "cell_type": "code",
   "execution_count": null,
   "id": "386f0f3c",
   "metadata": {},
   "outputs": [],
   "source": []
  }
 ],
 "metadata": {
  "kernelspec": {
   "display_name": "Python 3 (ipykernel)",
   "language": "python",
   "name": "python3"
  },
  "language_info": {
   "codemirror_mode": {
    "name": "ipython",
    "version": 3
   },
   "file_extension": ".py",
   "mimetype": "text/x-python",
   "name": "python",
   "nbconvert_exporter": "python",
   "pygments_lexer": "ipython3",
   "version": "3.9.13"
  }
 },
 "nbformat": 4,
 "nbformat_minor": 5
}
